{
  "nbformat": 4,
  "nbformat_minor": 0,
  "metadata": {
    "colab": {
      "name": "Linear_Regression.ipynb",
      "provenance": [],
      "collapsed_sections": [],
      "toc_visible": true,
      "authorship_tag": "ABX9TyPJlF3AaFp8LHv8F/2z+mmJ"
    },
    "kernelspec": {
      "name": "python3",
      "display_name": "Python 3"
    },
    "language_info": {
      "name": "python"
    }
  },
  "cells": [
    {
      "cell_type": "code",
      "metadata": {
        "id": "U1UzGhJysF7E"
      },
      "source": [
        "import numpy as np\n",
        "import pandas as pd\n",
        "import seaborn as sns\n"
      ],
      "execution_count": null,
      "outputs": []
    },
    {
      "cell_type": "code",
      "metadata": {
        "id": "48pLDFaJsS80"
      },
      "source": [
        "df = pd.read_csv('/content/Raw_Housing_Prices.csv')"
      ],
      "execution_count": null,
      "outputs": []
    },
    {
      "cell_type": "code",
      "metadata": {
        "colab": {
          "base_uri": "https://localhost:8080/",
          "height": 471
        },
        "id": "Lkh196m2s5bq",
        "outputId": "e1550a01-3069-4587-c8bb-392948b39b09"
      },
      "source": [
        "df.head()"
      ],
      "execution_count": null,
      "outputs": [
        {
          "output_type": "execute_result",
          "data": {
            "text/html": [
              "<div>\n",
              "<style scoped>\n",
              "    .dataframe tbody tr th:only-of-type {\n",
              "        vertical-align: middle;\n",
              "    }\n",
              "\n",
              "    .dataframe tbody tr th {\n",
              "        vertical-align: top;\n",
              "    }\n",
              "\n",
              "    .dataframe thead th {\n",
              "        text-align: right;\n",
              "    }\n",
              "</style>\n",
              "<table border=\"1\" class=\"dataframe\">\n",
              "  <thead>\n",
              "    <tr style=\"text-align: right;\">\n",
              "      <th></th>\n",
              "      <th>ID</th>\n",
              "      <th>Date House was Sold</th>\n",
              "      <th>Sale Price</th>\n",
              "      <th>No of Bedrooms</th>\n",
              "      <th>No of Bathrooms</th>\n",
              "      <th>Flat Area (in Sqft)</th>\n",
              "      <th>Lot Area (in Sqft)</th>\n",
              "      <th>No of Floors</th>\n",
              "      <th>Waterfront View</th>\n",
              "      <th>No of Times Visited</th>\n",
              "      <th>Condition of the House</th>\n",
              "      <th>Overall Grade</th>\n",
              "      <th>Area of the House from Basement (in Sqft)</th>\n",
              "      <th>Basement Area (in Sqft)</th>\n",
              "      <th>Age of House (in Years)</th>\n",
              "      <th>Renovated Year</th>\n",
              "      <th>Zipcode</th>\n",
              "      <th>Latitude</th>\n",
              "      <th>Longitude</th>\n",
              "      <th>Living Area after Renovation (in Sqft)</th>\n",
              "      <th>Lot Area after Renovation (in Sqft)</th>\n",
              "    </tr>\n",
              "  </thead>\n",
              "  <tbody>\n",
              "    <tr>\n",
              "      <th>0</th>\n",
              "      <td>7129300520</td>\n",
              "      <td>14 October 2017</td>\n",
              "      <td>221900.0</td>\n",
              "      <td>3</td>\n",
              "      <td>1.00</td>\n",
              "      <td>1180.0</td>\n",
              "      <td>5650.0</td>\n",
              "      <td>1.0</td>\n",
              "      <td>No</td>\n",
              "      <td>None</td>\n",
              "      <td>Fair</td>\n",
              "      <td>7</td>\n",
              "      <td>1180.0</td>\n",
              "      <td>0</td>\n",
              "      <td>63</td>\n",
              "      <td>0</td>\n",
              "      <td>98178.0</td>\n",
              "      <td>47.5112</td>\n",
              "      <td>-122.257</td>\n",
              "      <td>1340.0</td>\n",
              "      <td>5650</td>\n",
              "    </tr>\n",
              "    <tr>\n",
              "      <th>1</th>\n",
              "      <td>6414100192</td>\n",
              "      <td>14 December 2017</td>\n",
              "      <td>538000.0</td>\n",
              "      <td>3</td>\n",
              "      <td>2.25</td>\n",
              "      <td>2570.0</td>\n",
              "      <td>7242.0</td>\n",
              "      <td>2.0</td>\n",
              "      <td>No</td>\n",
              "      <td>None</td>\n",
              "      <td>Fair</td>\n",
              "      <td>7</td>\n",
              "      <td>2170.0</td>\n",
              "      <td>400</td>\n",
              "      <td>67</td>\n",
              "      <td>1991</td>\n",
              "      <td>98125.0</td>\n",
              "      <td>47.7210</td>\n",
              "      <td>-122.319</td>\n",
              "      <td>1690.0</td>\n",
              "      <td>7639</td>\n",
              "    </tr>\n",
              "    <tr>\n",
              "      <th>2</th>\n",
              "      <td>5631500400</td>\n",
              "      <td>15 February 2016</td>\n",
              "      <td>180000.0</td>\n",
              "      <td>2</td>\n",
              "      <td>1.00</td>\n",
              "      <td>770.0</td>\n",
              "      <td>10000.0</td>\n",
              "      <td>1.0</td>\n",
              "      <td>No</td>\n",
              "      <td>None</td>\n",
              "      <td>Fair</td>\n",
              "      <td>6</td>\n",
              "      <td>770.0</td>\n",
              "      <td>0</td>\n",
              "      <td>85</td>\n",
              "      <td>0</td>\n",
              "      <td>98028.0</td>\n",
              "      <td>47.7379</td>\n",
              "      <td>-122.233</td>\n",
              "      <td>2720.0</td>\n",
              "      <td>8062</td>\n",
              "    </tr>\n",
              "    <tr>\n",
              "      <th>3</th>\n",
              "      <td>2487200875</td>\n",
              "      <td>14 December 2017</td>\n",
              "      <td>604000.0</td>\n",
              "      <td>4</td>\n",
              "      <td>3.00</td>\n",
              "      <td>1960.0</td>\n",
              "      <td>5000.0</td>\n",
              "      <td>1.0</td>\n",
              "      <td>No</td>\n",
              "      <td>None</td>\n",
              "      <td>Excellent</td>\n",
              "      <td>7</td>\n",
              "      <td>1050.0</td>\n",
              "      <td>910</td>\n",
              "      <td>53</td>\n",
              "      <td>0</td>\n",
              "      <td>98136.0</td>\n",
              "      <td>47.5208</td>\n",
              "      <td>-122.393</td>\n",
              "      <td>1360.0</td>\n",
              "      <td>5000</td>\n",
              "    </tr>\n",
              "    <tr>\n",
              "      <th>4</th>\n",
              "      <td>1954400510</td>\n",
              "      <td>15 February 2016</td>\n",
              "      <td>510000.0</td>\n",
              "      <td>3</td>\n",
              "      <td>2.00</td>\n",
              "      <td>1680.0</td>\n",
              "      <td>8080.0</td>\n",
              "      <td>1.0</td>\n",
              "      <td>No</td>\n",
              "      <td>None</td>\n",
              "      <td>Fair</td>\n",
              "      <td>8</td>\n",
              "      <td>1680.0</td>\n",
              "      <td>0</td>\n",
              "      <td>31</td>\n",
              "      <td>0</td>\n",
              "      <td>98074.0</td>\n",
              "      <td>47.6168</td>\n",
              "      <td>-122.045</td>\n",
              "      <td>1800.0</td>\n",
              "      <td>7503</td>\n",
              "    </tr>\n",
              "  </tbody>\n",
              "</table>\n",
              "</div>"
            ],
            "text/plain": [
              "           ID  ... Lot Area after Renovation (in Sqft)\n",
              "0  7129300520  ...                                5650\n",
              "1  6414100192  ...                                7639\n",
              "2  5631500400  ...                                8062\n",
              "3  2487200875  ...                                5000\n",
              "4  1954400510  ...                                7503\n",
              "\n",
              "[5 rows x 21 columns]"
            ]
          },
          "metadata": {
            "tags": []
          },
          "execution_count": 5
        }
      ]
    },
    {
      "cell_type": "code",
      "metadata": {
        "colab": {
          "base_uri": "https://localhost:8080/"
        },
        "id": "QaDSOAiCGNA_",
        "outputId": "3b4738bb-203d-4c4d-d6ea-fa8a39e1af29"
      },
      "source": [
        "df.isnull().sum()"
      ],
      "execution_count": null,
      "outputs": [
        {
          "output_type": "execute_result",
          "data": {
            "text/plain": [
              "ID                                           0\n",
              "Date House was Sold                          0\n",
              "Sale Price                                   4\n",
              "No of Bedrooms                               0\n",
              "No of Bathrooms                              4\n",
              "Flat Area (in Sqft)                          9\n",
              "Lot Area (in Sqft)                           9\n",
              "No of Floors                                 0\n",
              "Waterfront View                              0\n",
              "No of Times Visited                          0\n",
              "Condition of the House                       0\n",
              "Overall Grade                                0\n",
              "Area of the House from Basement (in Sqft)    3\n",
              "Basement Area (in Sqft)                      0\n",
              "Age of House (in Years)                      0\n",
              "Renovated Year                               0\n",
              "Zipcode                                      1\n",
              "Latitude                                     1\n",
              "Longitude                                    1\n",
              "Living Area after Renovation (in Sqft)       1\n",
              "Lot Area after Renovation (in Sqft)          0\n",
              "dtype: int64"
            ]
          },
          "metadata": {
            "tags": []
          },
          "execution_count": 6
        }
      ]
    },
    {
      "cell_type": "markdown",
      "metadata": {
        "id": "jTU3f6XOxM-0"
      },
      "source": [
        ""
      ]
    },
    {
      "cell_type": "code",
      "metadata": {
        "id": "elqdoE41GRnY"
      },
      "source": [
        "df['Sale Price'].dropna(how= 'any',inplace = True)"
      ],
      "execution_count": null,
      "outputs": []
    },
    {
      "cell_type": "code",
      "metadata": {
        "colab": {
          "base_uri": "https://localhost:8080/"
        },
        "id": "YRpg-JOyG-CQ",
        "outputId": "4f8cd5cf-12f3-4090-cbae-6e04606aae5a"
      },
      "source": [
        "df['Sale Price'].isnull().sum()"
      ],
      "execution_count": null,
      "outputs": [
        {
          "output_type": "execute_result",
          "data": {
            "text/plain": [
              "4"
            ]
          },
          "metadata": {
            "tags": []
          },
          "execution_count": 8
        }
      ]
    },
    {
      "cell_type": "code",
      "metadata": {
        "colab": {
          "base_uri": "https://localhost:8080/"
        },
        "id": "aG237LIUJhRg",
        "outputId": "4b99d43a-df85-4535-de2c-6e1af4832474"
      },
      "source": [
        "df.info()"
      ],
      "execution_count": null,
      "outputs": [
        {
          "output_type": "stream",
          "text": [
            "<class 'pandas.core.frame.DataFrame'>\n",
            "RangeIndex: 21613 entries, 0 to 21612\n",
            "Data columns (total 21 columns):\n",
            " #   Column                                     Non-Null Count  Dtype  \n",
            "---  ------                                     --------------  -----  \n",
            " 0   ID                                         21613 non-null  int64  \n",
            " 1   Date House was Sold                        21613 non-null  object \n",
            " 2   Sale Price                                 21609 non-null  float64\n",
            " 3   No of Bedrooms                             21613 non-null  int64  \n",
            " 4   No of Bathrooms                            21609 non-null  float64\n",
            " 5   Flat Area (in Sqft)                        21604 non-null  float64\n",
            " 6   Lot Area (in Sqft)                         21604 non-null  float64\n",
            " 7   No of Floors                               21613 non-null  float64\n",
            " 8   Waterfront View                            21613 non-null  object \n",
            " 9   No of Times Visited                        21613 non-null  object \n",
            " 10  Condition of the House                     21613 non-null  object \n",
            " 11  Overall Grade                              21613 non-null  int64  \n",
            " 12  Area of the House from Basement (in Sqft)  21610 non-null  float64\n",
            " 13  Basement Area (in Sqft)                    21613 non-null  int64  \n",
            " 14  Age of House (in Years)                    21613 non-null  int64  \n",
            " 15  Renovated Year                             21613 non-null  int64  \n",
            " 16  Zipcode                                    21612 non-null  float64\n",
            " 17  Latitude                                   21612 non-null  float64\n",
            " 18  Longitude                                  21612 non-null  float64\n",
            " 19  Living Area after Renovation (in Sqft)     21612 non-null  float64\n",
            " 20  Lot Area after Renovation (in Sqft)        21613 non-null  int64  \n",
            "dtypes: float64(10), int64(7), object(4)\n",
            "memory usage: 3.5+ MB\n"
          ],
          "name": "stdout"
        }
      ]
    },
    {
      "cell_type": "code",
      "metadata": {
        "colab": {
          "base_uri": "https://localhost:8080/",
          "height": 293
        },
        "id": "W-kTFkqmtpPN",
        "outputId": "898e24cb-3c18-48c6-bf91-7f1d5c01fbac"
      },
      "source": [
        "\n",
        "df['Sale Price'].plot.hist() #Checking distribution of the Sale price"
      ],
      "execution_count": null,
      "outputs": [
        {
          "output_type": "execute_result",
          "data": {
            "text/plain": [
              "<matplotlib.axes._subplots.AxesSubplot at 0x7fd52f95ef10>"
            ]
          },
          "metadata": {
            "tags": []
          },
          "execution_count": 10
        },
        {
          "output_type": "display_data",
          "data": {
            "image/png": "[encoded data removed]",
            "text/plain": [
              "<Figure size 432x288 with 1 Axes>"
            ]
          },
          "metadata": {
            "tags": [],
            "needs_background": "light"
          }
        }
      ]
    },
    {
      "cell_type": "markdown",
      "metadata": {
        "id": "A-IGsuoQxb0j"
      },
      "source": [
        "### **Certain outliers found in sale price. Boxplots confirms too**"
      ]
    },
    {
      "cell_type": "code",
      "metadata": {
        "id": "Xs8WBt5FzxAI",
        "colab": {
          "base_uri": "https://localhost:8080/",
          "height": 292
        },
        "outputId": "e916ddfd-79a8-4ef1-d50a-1aff9ce26c45"
      },
      "source": [
        "df['Sale Price'].plot.box()"
      ],
      "execution_count": null,
      "outputs": [
        {
          "output_type": "execute_result",
          "data": {
            "text/plain": [
              "<matplotlib.axes._subplots.AxesSubplot at 0x7fd540e31950>"
            ]
          },
          "metadata": {
            "tags": []
          },
          "execution_count": 11
        },
        {
          "output_type": "display_data",
          "data": {
            "image/png": "[encoded data removed]",
            "text/plain": [
              "<Figure size 432x288 with 1 Axes>"
            ]
          },
          "metadata": {
            "tags": [],
            "needs_background": "light"
          }
        }
      ]
    },
    {
      "cell_type": "code",
      "metadata": {
        "id": "z6xMLtXRdGbN",
        "colab": {
          "base_uri": "https://localhost:8080/"
        },
        "outputId": "7ba068c0-6b9d-47a2-db36-3f5254531c09"
      },
      "source": [
        "#Replacing very high valued outliers with Higher Quratile + 1.5 times of Interquartile range\n",
        "q25 = df['Sale Price'].quantile(0.25)\n",
        "q75 = df['Sale Price'].quantile(0.75)\n",
        "iqr = q75-q25\n",
        "print(iqr)"
      ],
      "execution_count": null,
      "outputs": [
        {
          "output_type": "stream",
          "text": [
            "323050.0\n"
          ],
          "name": "stdout"
        }
      ]
    },
    {
      "cell_type": "code",
      "metadata": {
        "colab": {
          "base_uri": "https://localhost:8080/",
          "height": 292
        },
        "id": "pM93xPmgzZTT",
        "outputId": "be2c4c31-cc9c-4ca6-e335-58da4b3511a7"
      },
      "source": [
        "Upper_bound = q75 + 1.5*iqr\n",
        "Lower_bound = q25 - 1.5*iqr\n",
        "def impute(val):\n",
        "  if val>Upper_bound:\n",
        "    return Upper_bound\n",
        "  elif val<Lower_bound:\n",
        "    return Lower_bound\n",
        "  else:\n",
        "    return val  \n",
        "df['Sale Price'] = df['Sale Price'].apply(impute)\n",
        "df['Sale Price'].plot.box()"
      ],
      "execution_count": null,
      "outputs": [
        {
          "output_type": "execute_result",
          "data": {
            "text/plain": [
              "<matplotlib.axes._subplots.AxesSubplot at 0x7fd52ea462d0>"
            ]
          },
          "metadata": {
            "tags": []
          },
          "execution_count": 13
        },
        {
          "output_type": "display_data",
          "data": {
            "image/png": "[encoded data removed]",
            "text/plain": [
              "<Figure size 432x288 with 1 Axes>"
            ]
          },
          "metadata": {
            "tags": [],
            "needs_background": "light"
          }
        }
      ]
    },
    {
      "cell_type": "markdown",
      "metadata": {
        "id": "fYymwJz1EkHP"
      },
      "source": [
        "### ***Outliers are removed. Removing missing values of dependent variable by method of imputing ***"
      ]
    },
    {
      "cell_type": "markdown",
      "metadata": {
        "id": "J8JXSGISEjER"
      },
      "source": [
        ""
      ]
    },
    {
      "cell_type": "code",
      "metadata": {
        "id": "mRZSHUqXKz9U"
      },
      "source": [
        "#collecting variables with nan values\n",
        "nan = ['No of Bathrooms', 'Flat Area (in Sqft)','Lot Area (in Sqft)','Area of the House from Basement (in Sqft)','Latitude','Longitude','Living Area after Renovation (in Sqft)']"
      ],
      "execution_count": null,
      "outputs": []
    },
    {
      "cell_type": "code",
      "metadata": {
        "id": "_l5HcUUC3oYt"
      },
      "source": [
        ""
      ],
      "execution_count": null,
      "outputs": []
    },
    {
      "cell_type": "code",
      "metadata": {
        "id": "shZvE8UjvUrj"
      },
      "source": [
        "#imputing to remove nan values\n",
        "from sklearn.impute import SimpleImputer\n",
        "imputer = SimpleImputer(missing_values = np.nan, strategy = 'mean')\n",
        "df[nan] = imputer.fit_transform(df[nan])"
      ],
      "execution_count": null,
      "outputs": []
    },
    {
      "cell_type": "code",
      "metadata": {
        "colab": {
          "base_uri": "https://localhost:8080/"
        },
        "id": "aQ1uvX_7Lo0f",
        "outputId": "261dbb6d-db37-4577-ed74-3cd8f4dbf50c"
      },
      "source": [
        "df.info()"
      ],
      "execution_count": null,
      "outputs": [
        {
          "output_type": "stream",
          "text": [
            "<class 'pandas.core.frame.DataFrame'>\n",
            "RangeIndex: 21613 entries, 0 to 21612\n",
            "Data columns (total 21 columns):\n",
            " #   Column                                     Non-Null Count  Dtype  \n",
            "---  ------                                     --------------  -----  \n",
            " 0   ID                                         21613 non-null  int64  \n",
            " 1   Date House was Sold                        21613 non-null  object \n",
            " 2   Sale Price                                 21609 non-null  float64\n",
            " 3   No of Bedrooms                             21613 non-null  int64  \n",
            " 4   No of Bathrooms                            21613 non-null  float64\n",
            " 5   Flat Area (in Sqft)                        21613 non-null  float64\n",
            " 6   Lot Area (in Sqft)                         21613 non-null  float64\n",
            " 7   No of Floors                               21613 non-null  float64\n",
            " 8   Waterfront View                            21613 non-null  object \n",
            " 9   No of Times Visited                        21613 non-null  object \n",
            " 10  Condition of the House                     21613 non-null  object \n",
            " 11  Overall Grade                              21613 non-null  int64  \n",
            " 12  Area of the House from Basement (in Sqft)  21613 non-null  float64\n",
            " 13  Basement Area (in Sqft)                    21613 non-null  int64  \n",
            " 14  Age of House (in Years)                    21613 non-null  int64  \n",
            " 15  Renovated Year                             21613 non-null  int64  \n",
            " 16  Zipcode                                    21612 non-null  float64\n",
            " 17  Latitude                                   21613 non-null  float64\n",
            " 18  Longitude                                  21613 non-null  float64\n",
            " 19  Living Area after Renovation (in Sqft)     21613 non-null  float64\n",
            " 20  Lot Area after Renovation (in Sqft)        21613 non-null  int64  \n",
            "dtypes: float64(10), int64(7), object(4)\n",
            "memory usage: 3.5+ MB\n"
          ],
          "name": "stdout"
        }
      ]
    },
    {
      "cell_type": "code",
      "metadata": {
        "colab": {
          "base_uri": "https://localhost:8080/"
        },
        "id": "p58ilm54goQU",
        "outputId": "1b0c01f1-62a8-49e0-e821-3c737c747492"
      },
      "source": [
        "df['No of Times Visited'].value_counts()"
      ],
      "execution_count": null,
      "outputs": [
        {
          "output_type": "execute_result",
          "data": {
            "text/plain": [
              "None      19489\n",
              "Twice       963\n",
              "Thrice      510\n",
              "Once        332\n",
              "Four        319\n",
              "Name: No of Times Visited, dtype: int64"
            ]
          },
          "metadata": {
            "tags": []
          },
          "execution_count": 19
        }
      ]
    },
    {
      "cell_type": "code",
      "metadata": {
        "colab": {
          "base_uri": "https://localhost:8080/",
          "height": 327
        },
        "id": "KAE--mEYg9lh",
        "outputId": "51768c98-24e2-423c-9dff-019fb29b7d6e"
      },
      "source": [
        "df.groupby('No of Times Visited')['Sale Price'].mean().plot(kind = 'bar')"
      ],
      "execution_count": null,
      "outputs": [
        {
          "output_type": "execute_result",
          "data": {
            "text/plain": [
              "<matplotlib.axes._subplots.AxesSubplot at 0x7fd52ea1f8d0>"
            ]
          },
          "metadata": {
            "tags": []
          },
          "execution_count": 20
        },
        {
          "output_type": "display_data",
          "data": {
            "image/png": "[encoded data removed]",
            "text/plain": [
              "<Figure size 432x288 with 1 Axes>"
            ]
          },
          "metadata": {
            "tags": [],
            "needs_background": "light"
          }
        }
      ]
    },
    {
      "cell_type": "code",
      "metadata": {
        "id": "TEFjTt-ahZ6W"
      },
      "source": [
        "def mapping_Visited(val):\n",
        "  if val == 'None':\n",
        "    return 0\n",
        "  if val == 'Once':\n",
        "    return 1\n",
        "  if val == 'Twice':\n",
        "    return 2\n",
        "  if val == 'Thrice':\n",
        "    return 3\n",
        "  if val == 'Four':\n",
        "    return 4\n",
        "df['No of Times Visited'] = df['No of Times Visited'].apply(mapping_Visited)            "
      ],
      "execution_count": null,
      "outputs": []
    },
    {
      "cell_type": "code",
      "metadata": {
        "colab": {
          "base_uri": "https://localhost:8080/"
        },
        "id": "EnRIjsFCioID",
        "outputId": "62d80e72-43c3-40af-ecf8-4c8aef426748"
      },
      "source": [
        "df['No of Times Visited'].head()"
      ],
      "execution_count": null,
      "outputs": [
        {
          "output_type": "execute_result",
          "data": {
            "text/plain": [
              "0    0\n",
              "1    0\n",
              "2    0\n",
              "3    0\n",
              "4    0\n",
              "Name: No of Times Visited, dtype: int64"
            ]
          },
          "metadata": {
            "tags": []
          },
          "execution_count": 22
        }
      ]
    },
    {
      "cell_type": "code",
      "metadata": {
        "id": "_Gx9DYWLisa-"
      },
      "source": [
        "def mapping_Waterfront(val):\n",
        "  if val == 'No':\n",
        "    return 0\n",
        "  if val == 'Yes':\n",
        "    return 1\n",
        "df['Waterfront View'] = df['Waterfront View'].apply(mapping_Waterfront)      "
      ],
      "execution_count": null,
      "outputs": []
    },
    {
      "cell_type": "code",
      "metadata": {
        "colab": {
          "base_uri": "https://localhost:8080/"
        },
        "id": "33Nx8iHfjViE",
        "outputId": "7ebd6609-2590-4dba-aab5-92a167d49c81"
      },
      "source": [
        "df['Waterfront View'].head()"
      ],
      "execution_count": null,
      "outputs": [
        {
          "output_type": "execute_result",
          "data": {
            "text/plain": [
              "0    0\n",
              "1    0\n",
              "2    0\n",
              "3    0\n",
              "4    0\n",
              "Name: Waterfront View, dtype: int64"
            ]
          },
          "metadata": {
            "tags": []
          },
          "execution_count": 24
        }
      ]
    },
    {
      "cell_type": "code",
      "metadata": {
        "colab": {
          "base_uri": "https://localhost:8080/"
        },
        "id": "4TdPJEyUjWua",
        "outputId": "064a4148-7df8-4ddd-ccbc-2aa2842069b0"
      },
      "source": [
        "df['Zipcode'].value_counts()"
      ],
      "execution_count": null,
      "outputs": [
        {
          "output_type": "execute_result",
          "data": {
            "text/plain": [
              "98103.0    602\n",
              "98038.0    590\n",
              "98115.0    583\n",
              "98052.0    574\n",
              "98117.0    553\n",
              "          ... \n",
              "98102.0    105\n",
              "98010.0    100\n",
              "98024.0     81\n",
              "98148.0     57\n",
              "98039.0     50\n",
              "Name: Zipcode, Length: 70, dtype: int64"
            ]
          },
          "metadata": {
            "tags": []
          },
          "execution_count": 25
        }
      ]
    },
    {
      "cell_type": "code",
      "metadata": {
        "id": "sUdjXodsjoW9"
      },
      "source": [
        "imputer = SimpleImputer(missing_values = np.nan, strategy = 'most_frequent')\n",
        "df['Zipcode'] = imputer.fit_transform(df['Zipcode'].values.reshape(-1,1))"
      ],
      "execution_count": null,
      "outputs": []
    },
    {
      "cell_type": "code",
      "metadata": {
        "colab": {
          "base_uri": "https://localhost:8080/"
        },
        "id": "ZC3CrPtHlWn3",
        "outputId": "071d5306-ac7d-4978-c8b5-b73bfc7f45e5"
      },
      "source": [
        "df['Zipcode'].isnull().sum()"
      ],
      "execution_count": null,
      "outputs": [
        {
          "output_type": "execute_result",
          "data": {
            "text/plain": [
              "0"
            ]
          },
          "metadata": {
            "tags": []
          },
          "execution_count": 27
        }
      ]
    },
    {
      "cell_type": "code",
      "metadata": {
        "id": "FbGthq624ExL",
        "colab": {
          "base_uri": "https://localhost:8080/",
          "height": 338
        },
        "outputId": "66a93899-142c-4aea-a3a5-2185ceae244d"
      },
      "source": [
        "df.groupby('Zipcode')['Sale Price'].mean().plot(kind = 'bar')"
      ],
      "execution_count": null,
      "outputs": [
        {
          "output_type": "execute_result",
          "data": {
            "text/plain": [
              "<matplotlib.axes._subplots.AxesSubplot at 0x7fd52a9d3ed0>"
            ]
          },
          "metadata": {
            "tags": []
          },
          "execution_count": 28
        },
        {
          "output_type": "display_data",
          "data": {
            "image/png": "[encoded data removed]",
            "text/plain": [
              "<Figure size 432x288 with 1 Axes>"
            ]
          },
          "metadata": {
            "tags": [],
            "needs_background": "light"
          }
        }
      ]
    },
    {
      "cell_type": "markdown",
      "metadata": {
        "id": "tDfwwyrOoOI6"
      },
      "source": [
        "### **Binnig the Zipcode variable in 20 bins so as to facilitate encoding. They are first sorted in the increasing order of sale price which will help generate a better categorical variable** "
      ]
    },
    {
      "cell_type": "code",
      "metadata": {
        "id": "Y910JXYYoEfZ"
      },
      "source": [
        "zip = df.groupby('Zipcode').agg({'Sale Price':'mean'}).sort_values('Sale Price',ascending = True)"
      ],
      "execution_count": null,
      "outputs": []
    },
    {
      "cell_type": "code",
      "metadata": {
        "id": "cCsEd2BXoH6A"
      },
      "source": [
        "zip['zipcode'] = pd.cut(zip['Sale Price'],bins= 20,labels = range(0,20),include_lowest=True)"
      ],
      "execution_count": null,
      "outputs": []
    },
    {
      "cell_type": "code",
      "metadata": {
        "id": "6NCtOv_yo4dd"
      },
      "source": [
        "df = pd.merge(df,zip,left_on = 'Zipcode',how = 'left',right_index = True)"
      ],
      "execution_count": null,
      "outputs": []
    },
    {
      "cell_type": "code",
      "metadata": {
        "colab": {
          "base_uri": "https://localhost:8080/",
          "height": 471
        },
        "id": "AzFwkD0wpQwz",
        "outputId": "68e1c599-9ee5-4994-e80a-562f50d135bc"
      },
      "source": [
        "df.head()"
      ],
      "execution_count": null,
      "outputs": [
        {
          "output_type": "execute_result",
          "data": {
            "text/html": [
              "<div>\n",
              "<style scoped>\n",
              "    .dataframe tbody tr th:only-of-type {\n",
              "        vertical-align: middle;\n",
              "    }\n",
              "\n",
              "    .dataframe tbody tr th {\n",
              "        vertical-align: top;\n",
              "    }\n",
              "\n",
              "    .dataframe thead th {\n",
              "        text-align: right;\n",
              "    }\n",
              "</style>\n",
              "<table border=\"1\" class=\"dataframe\">\n",
              "  <thead>\n",
              "    <tr style=\"text-align: right;\">\n",
              "      <th></th>\n",
              "      <th>ID</th>\n",
              "      <th>Date House was Sold</th>\n",
              "      <th>Sale Price_x</th>\n",
              "      <th>No of Bedrooms</th>\n",
              "      <th>No of Bathrooms</th>\n",
              "      <th>Flat Area (in Sqft)</th>\n",
              "      <th>Lot Area (in Sqft)</th>\n",
              "      <th>No of Floors</th>\n",
              "      <th>Waterfront View</th>\n",
              "      <th>No of Times Visited</th>\n",
              "      <th>Condition of the House</th>\n",
              "      <th>Overall Grade</th>\n",
              "      <th>Area of the House from Basement (in Sqft)</th>\n",
              "      <th>Basement Area (in Sqft)</th>\n",
              "      <th>Age of House (in Years)</th>\n",
              "      <th>Renovated Year</th>\n",
              "      <th>Zipcode</th>\n",
              "      <th>Latitude</th>\n",
              "      <th>Longitude</th>\n",
              "      <th>Living Area after Renovation (in Sqft)</th>\n",
              "      <th>Lot Area after Renovation (in Sqft)</th>\n",
              "      <th>Sale Price_y</th>\n",
              "      <th>zipcode</th>\n",
              "    </tr>\n",
              "  </thead>\n",
              "  <tbody>\n",
              "    <tr>\n",
              "      <th>0</th>\n",
              "      <td>7129300520</td>\n",
              "      <td>14 October 2017</td>\n",
              "      <td>221900.0</td>\n",
              "      <td>3</td>\n",
              "      <td>1.00</td>\n",
              "      <td>1180.0</td>\n",
              "      <td>5650.0</td>\n",
              "      <td>1.0</td>\n",
              "      <td>0</td>\n",
              "      <td>0</td>\n",
              "      <td>Fair</td>\n",
              "      <td>7</td>\n",
              "      <td>1180.0</td>\n",
              "      <td>0</td>\n",
              "      <td>63</td>\n",
              "      <td>0</td>\n",
              "      <td>98178.0</td>\n",
              "      <td>47.5112</td>\n",
              "      <td>-122.257</td>\n",
              "      <td>1340.0</td>\n",
              "      <td>5650</td>\n",
              "      <td>308435.561069</td>\n",
              "      <td>1</td>\n",
              "    </tr>\n",
              "    <tr>\n",
              "      <th>1</th>\n",
              "      <td>6414100192</td>\n",
              "      <td>14 December 2017</td>\n",
              "      <td>538000.0</td>\n",
              "      <td>3</td>\n",
              "      <td>2.25</td>\n",
              "      <td>2570.0</td>\n",
              "      <td>7242.0</td>\n",
              "      <td>2.0</td>\n",
              "      <td>0</td>\n",
              "      <td>0</td>\n",
              "      <td>Fair</td>\n",
              "      <td>7</td>\n",
              "      <td>2170.0</td>\n",
              "      <td>400</td>\n",
              "      <td>67</td>\n",
              "      <td>1991</td>\n",
              "      <td>98125.0</td>\n",
              "      <td>47.7210</td>\n",
              "      <td>-122.319</td>\n",
              "      <td>1690.0</td>\n",
              "      <td>7639</td>\n",
              "      <td>462330.404878</td>\n",
              "      <td>5</td>\n",
              "    </tr>\n",
              "    <tr>\n",
              "      <th>2</th>\n",
              "      <td>5631500400</td>\n",
              "      <td>15 February 2016</td>\n",
              "      <td>180000.0</td>\n",
              "      <td>2</td>\n",
              "      <td>1.00</td>\n",
              "      <td>770.0</td>\n",
              "      <td>10000.0</td>\n",
              "      <td>1.0</td>\n",
              "      <td>0</td>\n",
              "      <td>0</td>\n",
              "      <td>Fair</td>\n",
              "      <td>6</td>\n",
              "      <td>770.0</td>\n",
              "      <td>0</td>\n",
              "      <td>85</td>\n",
              "      <td>0</td>\n",
              "      <td>98028.0</td>\n",
              "      <td>47.7379</td>\n",
              "      <td>-122.233</td>\n",
              "      <td>2720.0</td>\n",
              "      <td>8062</td>\n",
              "      <td>460825.088339</td>\n",
              "      <td>5</td>\n",
              "    </tr>\n",
              "    <tr>\n",
              "      <th>3</th>\n",
              "      <td>2487200875</td>\n",
              "      <td>14 December 2017</td>\n",
              "      <td>604000.0</td>\n",
              "      <td>4</td>\n",
              "      <td>3.00</td>\n",
              "      <td>1960.0</td>\n",
              "      <td>5000.0</td>\n",
              "      <td>1.0</td>\n",
              "      <td>0</td>\n",
              "      <td>0</td>\n",
              "      <td>Excellent</td>\n",
              "      <td>7</td>\n",
              "      <td>1050.0</td>\n",
              "      <td>910</td>\n",
              "      <td>53</td>\n",
              "      <td>0</td>\n",
              "      <td>98136.0</td>\n",
              "      <td>47.5208</td>\n",
              "      <td>-122.393</td>\n",
              "      <td>1360.0</td>\n",
              "      <td>5000</td>\n",
              "      <td>540466.049430</td>\n",
              "      <td>7</td>\n",
              "    </tr>\n",
              "    <tr>\n",
              "      <th>4</th>\n",
              "      <td>1954400510</td>\n",
              "      <td>15 February 2016</td>\n",
              "      <td>510000.0</td>\n",
              "      <td>3</td>\n",
              "      <td>2.00</td>\n",
              "      <td>1680.0</td>\n",
              "      <td>8080.0</td>\n",
              "      <td>1.0</td>\n",
              "      <td>0</td>\n",
              "      <td>0</td>\n",
              "      <td>Fair</td>\n",
              "      <td>8</td>\n",
              "      <td>1680.0</td>\n",
              "      <td>0</td>\n",
              "      <td>31</td>\n",
              "      <td>0</td>\n",
              "      <td>98074.0</td>\n",
              "      <td>47.6168</td>\n",
              "      <td>-122.045</td>\n",
              "      <td>1800.0</td>\n",
              "      <td>7503</td>\n",
              "      <td>666588.201814</td>\n",
              "      <td>9</td>\n",
              "    </tr>\n",
              "  </tbody>\n",
              "</table>\n",
              "</div>"
            ],
            "text/plain": [
              "           ID Date House was Sold  ...   Sale Price_y  zipcode\n",
              "0  7129300520     14 October 2017  ...  308435.561069        1\n",
              "1  6414100192    14 December 2017  ...  462330.404878        5\n",
              "2  5631500400    15 February 2016  ...  460825.088339        5\n",
              "3  2487200875    14 December 2017  ...  540466.049430        7\n",
              "4  1954400510    15 February 2016  ...  666588.201814        9\n",
              "\n",
              "[5 rows x 23 columns]"
            ]
          },
          "metadata": {
            "tags": []
          },
          "execution_count": 32
        }
      ]
    },
    {
      "cell_type": "code",
      "metadata": {
        "id": "VYt14fcLpWLd"
      },
      "source": [
        "df.drop(columns=['Zipcode'],inplace = True)"
      ],
      "execution_count": null,
      "outputs": []
    },
    {
      "cell_type": "code",
      "metadata": {
        "id": "N5dj8rJWpvVm"
      },
      "source": [
        "df.drop(columns=['Sale Price_y'],inplace = True)"
      ],
      "execution_count": null,
      "outputs": []
    },
    {
      "cell_type": "code",
      "metadata": {
        "colab": {
          "base_uri": "https://localhost:8080/"
        },
        "id": "6jGC1dRXrXhU",
        "outputId": "6fe61caa-0968-4b80-ffd8-ef3b11fba700"
      },
      "source": [
        "df['Condition of the House'].value_counts()"
      ],
      "execution_count": null,
      "outputs": [
        {
          "output_type": "execute_result",
          "data": {
            "text/plain": [
              "Fair         14031\n",
              "Good          5679\n",
              "Excellent     1701\n",
              "Okay           172\n",
              "Bad             30\n",
              "Name: Condition of the House, dtype: int64"
            ]
          },
          "metadata": {
            "tags": []
          },
          "execution_count": 35
        }
      ]
    },
    {
      "cell_type": "markdown",
      "metadata": {
        "id": "sJ5yZqghruS0"
      },
      "source": [
        "### **Encoding Okay and Bad with Fair considering very less no of Okay and Bad counts**"
      ]
    },
    {
      "cell_type": "code",
      "metadata": {
        "id": "tBemXYggpy-g"
      },
      "source": [
        "df['Condition of the House'] = df['Condition of the House'].map({'Bad':1,'Okay':1,'Fair':1,'Good':2,'Excellent':3})"
      ],
      "execution_count": null,
      "outputs": []
    },
    {
      "cell_type": "markdown",
      "metadata": {
        "id": "Lx6-csbIuKBG"
      },
      "source": [
        "### **Creating a new variable from Renovated_Year in which a year implies the year of renovation and 0 implies renovation was never done.**"
      ]
    },
    {
      "cell_type": "code",
      "metadata": {
        "id": "8ZoKhrG8wNWW"
      },
      "source": [
        "\n",
        "df['Renovated'] = np.where(df['Renovated Year'] == 0, 0, 1)"
      ],
      "execution_count": null,
      "outputs": []
    },
    {
      "cell_type": "markdown",
      "metadata": {
        "id": "-4ABT-O53sfm"
      },
      "source": [
        "### **Dropping year of purchase based on the intuition that it cannot effect Sale Price**"
      ]
    },
    {
      "cell_type": "code",
      "metadata": {
        "id": "Me_Kc3lHtJ8s"
      },
      "source": [
        "df.drop(columns = ['Date House was Sold'],inplace = True)"
      ],
      "execution_count": null,
      "outputs": []
    },
    {
      "cell_type": "code",
      "metadata": {
        "id": "IRUMgpsi7dd8"
      },
      "source": [
        "df.drop(columns=['ID'],inplace = True)"
      ],
      "execution_count": null,
      "outputs": []
    },
    {
      "cell_type": "code",
      "metadata": {
        "id": "ytNWGtoSlShx"
      },
      "source": [
        "df.dropna(inplace=True)"
      ],
      "execution_count": null,
      "outputs": []
    },
    {
      "cell_type": "code",
      "metadata": {
        "id": "FFfb3dLyl7Rj"
      },
      "source": [
        "Y = df['Sale Price_x']"
      ],
      "execution_count": null,
      "outputs": []
    },
    {
      "cell_type": "code",
      "metadata": {
        "id": "Hns84pBKmHI5"
      },
      "source": [
        "X = df.drop(columns = 'Sale Price_x')"
      ],
      "execution_count": null,
      "outputs": []
    },
    {
      "cell_type": "code",
      "metadata": {
        "id": "F70SswqmnFcY"
      },
      "source": [
        "from matplotlib import pyplot as plt"
      ],
      "execution_count": null,
      "outputs": []
    },
    {
      "cell_type": "code",
      "metadata": {
        "id": "v-jJced2nFgB"
      },
      "source": [
        ""
      ],
      "execution_count": null,
      "outputs": []
    },
    {
      "cell_type": "code",
      "metadata": {
        "id": "bIWr0w9PmNPu"
      },
      "source": [
        "def distribution(data ,var):\n",
        "  plt.figure(figsize = (len(var)*4,12), dpi = 120)\n",
        "  for j,i in enumerate(var):\n",
        "    plt.subplot(3,4,j+1)\n",
        "    plt.hist(data[i])\n",
        "    plt.title(i)\n",
        "numerical_columns = ['No of Bedrooms', 'No of Bathrooms', 'Lot Area (in Sqft)','No of Floors','Area of the House from Basement (in Sqft)', 'Basement Area (in Sqft)',\n",
        "'Age of House (in Years)', 'Latitude', 'Longitude','Living Area after Renovation (in Sqft)','Lot Area after Renovation (in Sqft)']    "
      ],
      "execution_count": null,
      "outputs": []
    },
    {
      "cell_type": "code",
      "metadata": {
        "id": "mHwPysGsmmiT"
      },
      "source": [
        "for i in numerical_columns:\n",
        "  X[i] = pd.to_numeric(X[i])"
      ],
      "execution_count": null,
      "outputs": []
    },
    {
      "cell_type": "code",
      "metadata": {
        "colab": {
          "base_uri": "https://localhost:8080/",
          "height": 1000
        },
        "id": "Y8ifii8rmptU",
        "outputId": "0b503e3a-d20e-4602-fcea-684fc18c9376"
      },
      "source": [
        "distribution(X, numerical_columns)"
      ],
      "execution_count": null,
      "outputs": [
        {
          "output_type": "display_data",
          "data": {
            "image/png": "[encoded data removed]",
            "text/plain": [
              "<Figure size 5280x1440 with 11 Axes>"
            ]
          },
          "metadata": {
            "tags": [],
            "needs_background": "light"
          }
        }
      ]
    },
    {
      "cell_type": "markdown",
      "metadata": {
        "id": "Pa5_YcRio2Uk"
      },
      "source": [
        "### **Some Variables are right skewed. Their skewness must be removed before training a Linear Regression model**"
      ]
    },
    {
      "cell_type": "code",
      "metadata": {
        "id": "GvxWgPu_nASB"
      },
      "source": [
        "\n",
        "def right_skew(x):\n",
        "  return np.sqrt(abs(x))\n",
        "\n",
        "skew = ['No of Bedrooms', 'No of Bathrooms', 'Lot Area (in Sqft)','No of Floors','Area of the House from Basement (in Sqft)', 'Basement Area (in Sqft)',\n",
        "'Longitude','Living Area after Renovation (in Sqft)','Lot Area after Renovation (in Sqft)']\n"
      ],
      "execution_count": null,
      "outputs": []
    },
    {
      "cell_type": "code",
      "metadata": {
        "colab": {
          "base_uri": "https://localhost:8080/",
          "height": 345
        },
        "id": "NIexDsUHpTTa",
        "outputId": "6f5105ac-c450-4ab2-fd49-6a975311fe21"
      },
      "source": [
        "for i in skew:\n",
        "  X[i] = X[i].map(right_skew)\n"
      ],
      "execution_count": null,
      "outputs": [
        {
          "output_type": "error",
          "ename": "OverflowError",
          "evalue": "ignored",
          "traceback": [
            "\u001b[0;31m---------------------------------------------------------------------------\u001b[0m",
            "\u001b[0;31mOverflowError\u001b[0m                             Traceback (most recent call last)",
            "\u001b[0;32m<ipython-input-91-60ddbb566b07>\u001b[0m in \u001b[0;36m<module>\u001b[0;34m()\u001b[0m\n\u001b[1;32m      2\u001b[0m   \u001b[0mX\u001b[0m\u001b[0;34m[\u001b[0m\u001b[0mi\u001b[0m\u001b[0;34m]\u001b[0m \u001b[0;34m=\u001b[0m \u001b[0mX\u001b[0m\u001b[0;34m[\u001b[0m\u001b[0mi\u001b[0m\u001b[0;34m]\u001b[0m\u001b[0;34m.\u001b[0m\u001b[0mmap\u001b[0m\u001b[0;34m(\u001b[0m\u001b[0mright_skew\u001b[0m\u001b[0;34m)\u001b[0m\u001b[0;34m\u001b[0m\u001b[0;34m\u001b[0m\u001b[0m\n\u001b[1;32m      3\u001b[0m \u001b[0;34m\u001b[0m\u001b[0m\n\u001b[0;32m----> 4\u001b[0;31m \u001b[0mX\u001b[0m \u001b[0;34m=\u001b[0m \u001b[0mX\u001b[0m\u001b[0;34m.\u001b[0m\u001b[0mreplace\u001b[0m\u001b[0;34m(\u001b[0m\u001b[0mnp\u001b[0m\u001b[0;34m.\u001b[0m\u001b[0minf\u001b[0m\u001b[0;34m,\u001b[0m \u001b[0mnp\u001b[0m\u001b[0;34m.\u001b[0m\u001b[0mnan\u001b[0m\u001b[0;34m)\u001b[0m\u001b[0;34m\u001b[0m\u001b[0;34m\u001b[0m\u001b[0m\n\u001b[0m\u001b[1;32m      5\u001b[0m \u001b[0mX\u001b[0m\u001b[0;34m.\u001b[0m\u001b[0mdropna\u001b[0m\u001b[0;34m(\u001b[0m\u001b[0minplace\u001b[0m\u001b[0;34m=\u001b[0m\u001b[0;32mTrue\u001b[0m\u001b[0;34m)\u001b[0m\u001b[0;34m\u001b[0m\u001b[0;34m\u001b[0m\u001b[0m\n",
            "\u001b[0;32m/usr/local/lib/python3.7/dist-packages/pandas/core/frame.py\u001b[0m in \u001b[0;36mreplace\u001b[0;34m(self, to_replace, value, inplace, limit, regex, method)\u001b[0m\n\u001b[1;32m   4387\u001b[0m             \u001b[0mlimit\u001b[0m\u001b[0;34m=\u001b[0m\u001b[0mlimit\u001b[0m\u001b[0;34m,\u001b[0m\u001b[0;34m\u001b[0m\u001b[0;34m\u001b[0m\u001b[0m\n\u001b[1;32m   4388\u001b[0m             \u001b[0mregex\u001b[0m\u001b[0;34m=\u001b[0m\u001b[0mregex\u001b[0m\u001b[0;34m,\u001b[0m\u001b[0;34m\u001b[0m\u001b[0;34m\u001b[0m\u001b[0m\n\u001b[0;32m-> 4389\u001b[0;31m             \u001b[0mmethod\u001b[0m\u001b[0;34m=\u001b[0m\u001b[0mmethod\u001b[0m\u001b[0;34m,\u001b[0m\u001b[0;34m\u001b[0m\u001b[0;34m\u001b[0m\u001b[0m\n\u001b[0m\u001b[1;32m   4390\u001b[0m         )\n\u001b[1;32m   4391\u001b[0m \u001b[0;34m\u001b[0m\u001b[0m\n",
            "\u001b[0;32m/usr/local/lib/python3.7/dist-packages/pandas/core/generic.py\u001b[0m in \u001b[0;36mreplace\u001b[0;34m(self, to_replace, value, inplace, limit, regex, method)\u001b[0m\n\u001b[1;32m   6587\u001b[0m                 \u001b[0;32melif\u001b[0m \u001b[0;32mnot\u001b[0m \u001b[0mis_list_like\u001b[0m\u001b[0;34m(\u001b[0m\u001b[0mvalue\u001b[0m\u001b[0;34m)\u001b[0m\u001b[0;34m:\u001b[0m  \u001b[0;31m# NA -> 0\u001b[0m\u001b[0;34m\u001b[0m\u001b[0;34m\u001b[0m\u001b[0m\n\u001b[1;32m   6588\u001b[0m                     new_data = self._mgr.replace(\n\u001b[0;32m-> 6589\u001b[0;31m                         \u001b[0mto_replace\u001b[0m\u001b[0;34m=\u001b[0m\u001b[0mto_replace\u001b[0m\u001b[0;34m,\u001b[0m \u001b[0mvalue\u001b[0m\u001b[0;34m=\u001b[0m\u001b[0mvalue\u001b[0m\u001b[0;34m,\u001b[0m \u001b[0minplace\u001b[0m\u001b[0;34m=\u001b[0m\u001b[0minplace\u001b[0m\u001b[0;34m,\u001b[0m \u001b[0mregex\u001b[0m\u001b[0;34m=\u001b[0m\u001b[0mregex\u001b[0m\u001b[0;34m\u001b[0m\u001b[0;34m\u001b[0m\u001b[0m\n\u001b[0m\u001b[1;32m   6590\u001b[0m                     )\n\u001b[1;32m   6591\u001b[0m                 \u001b[0;32melse\u001b[0m\u001b[0;34m:\u001b[0m\u001b[0;34m\u001b[0m\u001b[0;34m\u001b[0m\u001b[0m\n",
            "\u001b[0;32m/usr/local/lib/python3.7/dist-packages/pandas/core/internals/managers.py\u001b[0m in \u001b[0;36mreplace\u001b[0;34m(self, value, **kwargs)\u001b[0m\n\u001b[1;32m    623\u001b[0m     \u001b[0;32mdef\u001b[0m \u001b[0mreplace\u001b[0m\u001b[0;34m(\u001b[0m\u001b[0mself\u001b[0m\u001b[0;34m,\u001b[0m \u001b[0mvalue\u001b[0m\u001b[0;34m,\u001b[0m \u001b[0;34m**\u001b[0m\u001b[0mkwargs\u001b[0m\u001b[0;34m)\u001b[0m \u001b[0;34m->\u001b[0m \u001b[0;34m\"BlockManager\"\u001b[0m\u001b[0;34m:\u001b[0m\u001b[0;34m\u001b[0m\u001b[0;34m\u001b[0m\u001b[0m\n\u001b[1;32m    624\u001b[0m         \u001b[0;32massert\u001b[0m \u001b[0mnp\u001b[0m\u001b[0;34m.\u001b[0m\u001b[0mndim\u001b[0m\u001b[0;34m(\u001b[0m\u001b[0mvalue\u001b[0m\u001b[0;34m)\u001b[0m \u001b[0;34m==\u001b[0m \u001b[0;36m0\u001b[0m\u001b[0;34m,\u001b[0m \u001b[0mvalue\u001b[0m\u001b[0;34m\u001b[0m\u001b[0;34m\u001b[0m\u001b[0m\n\u001b[0;32m--> 625\u001b[0;31m         \u001b[0;32mreturn\u001b[0m \u001b[0mself\u001b[0m\u001b[0;34m.\u001b[0m\u001b[0mapply\u001b[0m\u001b[0;34m(\u001b[0m\u001b[0;34m\"replace\"\u001b[0m\u001b[0;34m,\u001b[0m \u001b[0mvalue\u001b[0m\u001b[0;34m=\u001b[0m\u001b[0mvalue\u001b[0m\u001b[0;34m,\u001b[0m \u001b[0;34m**\u001b[0m\u001b[0mkwargs\u001b[0m\u001b[0;34m)\u001b[0m\u001b[0;34m\u001b[0m\u001b[0;34m\u001b[0m\u001b[0m\n\u001b[0m\u001b[1;32m    626\u001b[0m \u001b[0;34m\u001b[0m\u001b[0m\n\u001b[1;32m    627\u001b[0m     def replace_list(\n",
            "\u001b[0;32m/usr/local/lib/python3.7/dist-packages/pandas/core/internals/managers.py\u001b[0m in \u001b[0;36mapply\u001b[0;34m(self, f, align_keys, **kwargs)\u001b[0m\n\u001b[1;32m    407\u001b[0m                 \u001b[0mapplied\u001b[0m \u001b[0;34m=\u001b[0m \u001b[0mb\u001b[0m\u001b[0;34m.\u001b[0m\u001b[0mapply\u001b[0m\u001b[0;34m(\u001b[0m\u001b[0mf\u001b[0m\u001b[0;34m,\u001b[0m \u001b[0;34m**\u001b[0m\u001b[0mkwargs\u001b[0m\u001b[0;34m)\u001b[0m\u001b[0;34m\u001b[0m\u001b[0;34m\u001b[0m\u001b[0m\n\u001b[1;32m    408\u001b[0m             \u001b[0;32melse\u001b[0m\u001b[0;34m:\u001b[0m\u001b[0;34m\u001b[0m\u001b[0;34m\u001b[0m\u001b[0m\n\u001b[0;32m--> 409\u001b[0;31m                 \u001b[0mapplied\u001b[0m \u001b[0;34m=\u001b[0m \u001b[0mgetattr\u001b[0m\u001b[0;34m(\u001b[0m\u001b[0mb\u001b[0m\u001b[0;34m,\u001b[0m \u001b[0mf\u001b[0m\u001b[0;34m)\u001b[0m\u001b[0;34m(\u001b[0m\u001b[0;34m**\u001b[0m\u001b[0mkwargs\u001b[0m\u001b[0;34m)\u001b[0m\u001b[0;34m\u001b[0m\u001b[0;34m\u001b[0m\u001b[0m\n\u001b[0m\u001b[1;32m    410\u001b[0m             \u001b[0mresult_blocks\u001b[0m \u001b[0;34m=\u001b[0m \u001b[0m_extend_blocks\u001b[0m\u001b[0;34m(\u001b[0m\u001b[0mapplied\u001b[0m\u001b[0;34m,\u001b[0m \u001b[0mresult_blocks\u001b[0m\u001b[0;34m)\u001b[0m\u001b[0;34m\u001b[0m\u001b[0;34m\u001b[0m\u001b[0m\n\u001b[1;32m    411\u001b[0m \u001b[0;34m\u001b[0m\u001b[0m\n",
            "\u001b[0;32m/usr/local/lib/python3.7/dist-packages/pandas/core/internals/blocks.py\u001b[0m in \u001b[0;36mreplace\u001b[0;34m(self, to_replace, value, inplace, regex, convert)\u001b[0m\n\u001b[1;32m   2667\u001b[0m         \u001b[0mresult\u001b[0m \u001b[0;34m=\u001b[0m \u001b[0mself\u001b[0m \u001b[0;32mif\u001b[0m \u001b[0minplace\u001b[0m \u001b[0;32melse\u001b[0m \u001b[0mself\u001b[0m\u001b[0;34m.\u001b[0m\u001b[0mcopy\u001b[0m\u001b[0;34m(\u001b[0m\u001b[0;34m)\u001b[0m\u001b[0;34m\u001b[0m\u001b[0;34m\u001b[0m\u001b[0m\n\u001b[1;32m   2668\u001b[0m \u001b[0;34m\u001b[0m\u001b[0m\n\u001b[0;32m-> 2669\u001b[0;31m         \u001b[0mresult\u001b[0m\u001b[0;34m.\u001b[0m\u001b[0mvalues\u001b[0m\u001b[0;34m.\u001b[0m\u001b[0mreplace\u001b[0m\u001b[0;34m(\u001b[0m\u001b[0mto_replace\u001b[0m\u001b[0;34m,\u001b[0m \u001b[0mvalue\u001b[0m\u001b[0;34m,\u001b[0m \u001b[0minplace\u001b[0m\u001b[0;34m=\u001b[0m\u001b[0;32mTrue\u001b[0m\u001b[0;34m)\u001b[0m\u001b[0;34m\u001b[0m\u001b[0;34m\u001b[0m\u001b[0m\n\u001b[0m\u001b[1;32m   2670\u001b[0m         \u001b[0;32mreturn\u001b[0m \u001b[0mresult\u001b[0m\u001b[0;34m\u001b[0m\u001b[0;34m\u001b[0m\u001b[0m\n\u001b[1;32m   2671\u001b[0m \u001b[0;34m\u001b[0m\u001b[0m\n",
            "\u001b[0;32m/usr/local/lib/python3.7/dist-packages/pandas/core/arrays/categorical.py\u001b[0m in \u001b[0;36mreplace\u001b[0;34m(self, to_replace, value, inplace)\u001b[0m\n\u001b[1;32m   2411\u001b[0m             \u001b[0;32mif\u001b[0m \u001b[0mnew_value\u001b[0m \u001b[0;34m==\u001b[0m \u001b[0mreplace_value\u001b[0m\u001b[0;34m:\u001b[0m\u001b[0;34m\u001b[0m\u001b[0;34m\u001b[0m\u001b[0m\n\u001b[1;32m   2412\u001b[0m                 \u001b[0;32mcontinue\u001b[0m\u001b[0;34m\u001b[0m\u001b[0;34m\u001b[0m\u001b[0m\n\u001b[0;32m-> 2413\u001b[0;31m             \u001b[0;32mif\u001b[0m \u001b[0mreplace_value\u001b[0m \u001b[0;32min\u001b[0m \u001b[0mcat\u001b[0m\u001b[0;34m.\u001b[0m\u001b[0mcategories\u001b[0m\u001b[0;34m:\u001b[0m\u001b[0;34m\u001b[0m\u001b[0;34m\u001b[0m\u001b[0m\n\u001b[0m\u001b[1;32m   2414\u001b[0m                 \u001b[0;32mif\u001b[0m \u001b[0misna\u001b[0m\u001b[0;34m(\u001b[0m\u001b[0mnew_value\u001b[0m\u001b[0;34m)\u001b[0m\u001b[0;34m:\u001b[0m\u001b[0;34m\u001b[0m\u001b[0;34m\u001b[0m\u001b[0m\n\u001b[1;32m   2415\u001b[0m                     \u001b[0mcat\u001b[0m\u001b[0;34m.\u001b[0m\u001b[0mremove_categories\u001b[0m\u001b[0;34m(\u001b[0m\u001b[0mreplace_value\u001b[0m\u001b[0;34m,\u001b[0m \u001b[0minplace\u001b[0m\u001b[0;34m=\u001b[0m\u001b[0;32mTrue\u001b[0m\u001b[0;34m)\u001b[0m\u001b[0;34m\u001b[0m\u001b[0;34m\u001b[0m\u001b[0m\n",
            "\u001b[0;32m/usr/local/lib/python3.7/dist-packages/pandas/core/indexes/range.py\u001b[0m in \u001b[0;36m__contains__\u001b[0;34m(self, key)\u001b[0m\n\u001b[1;32m    342\u001b[0m         \u001b[0mhash\u001b[0m\u001b[0;34m(\u001b[0m\u001b[0mkey\u001b[0m\u001b[0;34m)\u001b[0m\u001b[0;34m\u001b[0m\u001b[0;34m\u001b[0m\u001b[0m\n\u001b[1;32m    343\u001b[0m         \u001b[0;32mtry\u001b[0m\u001b[0;34m:\u001b[0m\u001b[0;34m\u001b[0m\u001b[0;34m\u001b[0m\u001b[0m\n\u001b[0;32m--> 344\u001b[0;31m             \u001b[0mkey\u001b[0m \u001b[0;34m=\u001b[0m \u001b[0mensure_python_int\u001b[0m\u001b[0;34m(\u001b[0m\u001b[0mkey\u001b[0m\u001b[0;34m)\u001b[0m\u001b[0;34m\u001b[0m\u001b[0;34m\u001b[0m\u001b[0m\n\u001b[0m\u001b[1;32m    345\u001b[0m         \u001b[0;32mexcept\u001b[0m \u001b[0mTypeError\u001b[0m\u001b[0;34m:\u001b[0m\u001b[0;34m\u001b[0m\u001b[0;34m\u001b[0m\u001b[0m\n\u001b[1;32m    346\u001b[0m             \u001b[0;32mreturn\u001b[0m \u001b[0;32mFalse\u001b[0m\u001b[0;34m\u001b[0m\u001b[0;34m\u001b[0m\u001b[0m\n",
            "\u001b[0;32m/usr/local/lib/python3.7/dist-packages/pandas/core/dtypes/common.py\u001b[0m in \u001b[0;36mensure_python_int\u001b[0;34m(value)\u001b[0m\n\u001b[1;32m    169\u001b[0m         )\n\u001b[1;32m    170\u001b[0m     \u001b[0;32mtry\u001b[0m\u001b[0;34m:\u001b[0m\u001b[0;34m\u001b[0m\u001b[0;34m\u001b[0m\u001b[0m\n\u001b[0;32m--> 171\u001b[0;31m         \u001b[0mnew_value\u001b[0m \u001b[0;34m=\u001b[0m \u001b[0mint\u001b[0m\u001b[0;34m(\u001b[0m\u001b[0mvalue\u001b[0m\u001b[0;34m)\u001b[0m\u001b[0;34m\u001b[0m\u001b[0;34m\u001b[0m\u001b[0m\n\u001b[0m\u001b[1;32m    172\u001b[0m         \u001b[0;32massert\u001b[0m \u001b[0mnew_value\u001b[0m \u001b[0;34m==\u001b[0m \u001b[0mvalue\u001b[0m\u001b[0;34m\u001b[0m\u001b[0;34m\u001b[0m\u001b[0m\n\u001b[1;32m    173\u001b[0m     \u001b[0;32mexcept\u001b[0m \u001b[0;34m(\u001b[0m\u001b[0mTypeError\u001b[0m\u001b[0;34m,\u001b[0m \u001b[0mValueError\u001b[0m\u001b[0;34m,\u001b[0m \u001b[0mAssertionError\u001b[0m\u001b[0;34m)\u001b[0m \u001b[0;32mas\u001b[0m \u001b[0merr\u001b[0m\u001b[0;34m:\u001b[0m\u001b[0;34m\u001b[0m\u001b[0;34m\u001b[0m\u001b[0m\n",
            "\u001b[0;31mOverflowError\u001b[0m: cannot convert float infinity to integer"
          ]
        }
      ]
    },
    {
      "cell_type": "code",
      "metadata": {
        "id": "KpN8aa9ElJEj",
        "colab": {
          "base_uri": "https://localhost:8080/",
          "height": 375
        },
        "outputId": "11fb7bab-cad0-4b01-c8eb-a0aa41f7c4c8"
      },
      "source": [
        "distribution(X, numerical_columns)"
      ],
      "execution_count": null,
      "outputs": [
        {
          "output_type": "display_data",
          "data": {
            "image/png": "[encoded data removed]",
            "text/plain": [
              "<Figure size 5280x1440 with 11 Axes>"
            ]
          },
          "metadata": {
            "tags": [],
            "needs_background": "light"
          }
        }
      ]
    },
    {
      "cell_type": "code",
      "metadata": {
        "id": "Tv4VDfaBqmds"
      },
      "source": [
        ""
      ],
      "execution_count": null,
      "outputs": []
    },
    {
      "cell_type": "code",
      "metadata": {
        "id": "DdK6-a5wkn0q",
        "colab": {
          "base_uri": "https://localhost:8080/",
          "height": 308
        },
        "outputId": "ea924712-3b81-4bd5-c5cf-9a2d3ea09e6a"
      },
      "source": [
        "from sklearn.preprocessing import StandardScaler\n",
        "scaler = StandardScaler()\n",
        "X1 = scaler.fit_transform(X)\n",
        "X = pd.DataFrame(data = X1, columns = X.columns)\n",
        "X.head()"
      ],
      "execution_count": null,
      "outputs": [
        {
          "output_type": "execute_result",
          "data": {
            "text/html": [
              "<div>\n",
              "<style scoped>\n",
              "    .dataframe tbody tr th:only-of-type {\n",
              "        vertical-align: middle;\n",
              "    }\n",
              "\n",
              "    .dataframe tbody tr th {\n",
              "        vertical-align: top;\n",
              "    }\n",
              "\n",
              "    .dataframe thead th {\n",
              "        text-align: right;\n",
              "    }\n",
              "</style>\n",
              "<table border=\"1\" class=\"dataframe\">\n",
              "  <thead>\n",
              "    <tr style=\"text-align: right;\">\n",
              "      <th></th>\n",
              "      <th>No of Bedrooms</th>\n",
              "      <th>No of Bathrooms</th>\n",
              "      <th>Flat Area (in Sqft)</th>\n",
              "      <th>Lot Area (in Sqft)</th>\n",
              "      <th>No of Floors</th>\n",
              "      <th>Waterfront View</th>\n",
              "      <th>No of Times Visited</th>\n",
              "      <th>Condition of the House</th>\n",
              "      <th>Overall Grade</th>\n",
              "      <th>Area of the House from Basement (in Sqft)</th>\n",
              "      <th>Basement Area (in Sqft)</th>\n",
              "      <th>Age of House (in Years)</th>\n",
              "      <th>Renovated Year</th>\n",
              "      <th>Latitude</th>\n",
              "      <th>Longitude</th>\n",
              "      <th>Living Area after Renovation (in Sqft)</th>\n",
              "      <th>Lot Area after Renovation (in Sqft)</th>\n",
              "      <th>zipcode</th>\n",
              "      <th>Renovated</th>\n",
              "    </tr>\n",
              "  </thead>\n",
              "  <tbody>\n",
              "    <tr>\n",
              "      <th>0</th>\n",
              "      <td>-0.290542</td>\n",
              "      <td>-1.622578</td>\n",
              "      <td>-0.979989</td>\n",
              "      <td>-0.411618</td>\n",
              "      <td>-0.951892</td>\n",
              "      <td>-0.087181</td>\n",
              "      <td>-0.30579</td>\n",
              "      <td>-0.663504</td>\n",
              "      <td>-0.563993</td>\n",
              "      <td>-0.760733</td>\n",
              "      <td>-0.789767</td>\n",
              "      <td>0.544734</td>\n",
              "      <td>-0.210149</td>\n",
              "      <td>-0.352572</td>\n",
              "      <td>0.306506</td>\n",
              "      <td>-1.020322</td>\n",
              "      <td>-0.416309</td>\n",
              "      <td>-1.205518</td>\n",
              "      <td>-0.210155</td>\n",
              "    </tr>\n",
              "    <tr>\n",
              "      <th>1</th>\n",
              "      <td>-0.290542</td>\n",
              "      <td>0.300277</td>\n",
              "      <td>0.533645</td>\n",
              "      <td>-0.196156</td>\n",
              "      <td>0.993596</td>\n",
              "      <td>-0.087181</td>\n",
              "      <td>-0.30579</td>\n",
              "      <td>-0.663504</td>\n",
              "      <td>-0.563993</td>\n",
              "      <td>0.630049</td>\n",
              "      <td>0.986856</td>\n",
              "      <td>0.680915</td>\n",
              "      <td>4.746219</td>\n",
              "      <td>1.161649</td>\n",
              "      <td>0.746389</td>\n",
              "      <td>-0.358773</td>\n",
              "      <td>-0.114853</td>\n",
              "      <td>-0.221699</td>\n",
              "      <td>4.758385</td>\n",
              "    </tr>\n",
              "    <tr>\n",
              "      <th>2</th>\n",
              "      <td>-1.571543</td>\n",
              "      <td>-1.622578</td>\n",
              "      <td>-1.426456</td>\n",
              "      <td>0.104673</td>\n",
              "      <td>-0.951892</td>\n",
              "      <td>-0.087181</td>\n",
              "      <td>-0.30579</td>\n",
              "      <td>-0.663504</td>\n",
              "      <td>-1.468566</td>\n",
              "      <td>-1.616460</td>\n",
              "      <td>-0.789767</td>\n",
              "      <td>1.293731</td>\n",
              "      <td>-0.210149</td>\n",
              "      <td>1.283624</td>\n",
              "      <td>0.136184</td>\n",
              "      <td>1.124123</td>\n",
              "      <td>-0.058550</td>\n",
              "      <td>-0.221699</td>\n",
              "      <td>-0.210155</td>\n",
              "    </tr>\n",
              "    <tr>\n",
              "      <th>3</th>\n",
              "      <td>0.700394</td>\n",
              "      <td>1.081664</td>\n",
              "      <td>-0.130612</td>\n",
              "      <td>-0.512885</td>\n",
              "      <td>-0.951892</td>\n",
              "      <td>-0.087181</td>\n",
              "      <td>-0.30579</td>\n",
              "      <td>2.494570</td>\n",
              "      <td>-0.563993</td>\n",
              "      <td>-1.003862</td>\n",
              "      <td>1.392162</td>\n",
              "      <td>0.204281</td>\n",
              "      <td>-0.210149</td>\n",
              "      <td>-0.283284</td>\n",
              "      <td>1.271193</td>\n",
              "      <td>-0.979224</td>\n",
              "      <td>-0.532139</td>\n",
              "      <td>0.270210</td>\n",
              "      <td>-0.210155</td>\n",
              "    </tr>\n",
              "    <tr>\n",
              "      <th>4</th>\n",
              "      <td>-0.290542</td>\n",
              "      <td>-0.003774</td>\n",
              "      <td>-0.435516</td>\n",
              "      <td>-0.096787</td>\n",
              "      <td>-0.951892</td>\n",
              "      <td>-0.087181</td>\n",
              "      <td>-0.30579</td>\n",
              "      <td>-0.663504</td>\n",
              "      <td>0.340581</td>\n",
              "      <td>0.019881</td>\n",
              "      <td>-0.789767</td>\n",
              "      <td>-0.544715</td>\n",
              "      <td>-0.210149</td>\n",
              "      <td>0.409591</td>\n",
              "      <td>-1.198877</td>\n",
              "      <td>-0.172277</td>\n",
              "      <td>-0.133451</td>\n",
              "      <td>0.762119</td>\n",
              "      <td>-0.210155</td>\n",
              "    </tr>\n",
              "  </tbody>\n",
              "</table>\n",
              "</div>"
            ],
            "text/plain": [
              "   No of Bedrooms  No of Bathrooms  ...   zipcode  Renovated\n",
              "0       -0.290542        -1.622578  ... -1.205518  -0.210155\n",
              "1       -0.290542         0.300277  ... -0.221699   4.758385\n",
              "2       -1.571543        -1.622578  ... -0.221699  -0.210155\n",
              "3        0.700394         1.081664  ...  0.270210  -0.210155\n",
              "4       -0.290542        -0.003774  ...  0.762119  -0.210155\n",
              "\n",
              "[5 rows x 19 columns]"
            ]
          },
          "metadata": {
            "tags": []
          },
          "execution_count": 93
        }
      ]
    },
    {
      "cell_type": "code",
      "metadata": {
        "colab": {
          "base_uri": "https://localhost:8080/",
          "height": 1000
        },
        "id": "ISzn0v6-rnrk",
        "outputId": "5b5b8753-04fb-4c35-b884-e84bb4dd6a14"
      },
      "source": [
        "X.corr()"
      ],
      "execution_count": null,
      "outputs": [
        {
          "output_type": "execute_result",
          "data": {
            "text/html": [
              "<div>\n",
              "<style scoped>\n",
              "    .dataframe tbody tr th:only-of-type {\n",
              "        vertical-align: middle;\n",
              "    }\n",
              "\n",
              "    .dataframe tbody tr th {\n",
              "        vertical-align: top;\n",
              "    }\n",
              "\n",
              "    .dataframe thead th {\n",
              "        text-align: right;\n",
              "    }\n",
              "</style>\n",
              "<table border=\"1\" class=\"dataframe\">\n",
              "  <thead>\n",
              "    <tr style=\"text-align: right;\">\n",
              "      <th></th>\n",
              "      <th>No of Bedrooms</th>\n",
              "      <th>No of Bathrooms</th>\n",
              "      <th>Flat Area (in Sqft)</th>\n",
              "      <th>Lot Area (in Sqft)</th>\n",
              "      <th>No of Floors</th>\n",
              "      <th>Waterfront View</th>\n",
              "      <th>No of Times Visited</th>\n",
              "      <th>Condition of the House</th>\n",
              "      <th>Overall Grade</th>\n",
              "      <th>Area of the House from Basement (in Sqft)</th>\n",
              "      <th>Basement Area (in Sqft)</th>\n",
              "      <th>Age of House (in Years)</th>\n",
              "      <th>Renovated Year</th>\n",
              "      <th>Latitude</th>\n",
              "      <th>Longitude</th>\n",
              "      <th>Living Area after Renovation (in Sqft)</th>\n",
              "      <th>Lot Area after Renovation (in Sqft)</th>\n",
              "      <th>zipcode</th>\n",
              "      <th>Renovated</th>\n",
              "    </tr>\n",
              "  </thead>\n",
              "  <tbody>\n",
              "    <tr>\n",
              "      <th>No of Bedrooms</th>\n",
              "      <td>1.000000</td>\n",
              "      <td>0.542521</td>\n",
              "      <td>0.555672</td>\n",
              "      <td>0.139778</td>\n",
              "      <td>0.190078</td>\n",
              "      <td>-0.010129</td>\n",
              "      <td>0.069774</td>\n",
              "      <td>0.018336</td>\n",
              "      <td>0.360515</td>\n",
              "      <td>0.507588</td>\n",
              "      <td>0.204728</td>\n",
              "      <td>-0.172430</td>\n",
              "      <td>0.013883</td>\n",
              "      <td>-0.018305</td>\n",
              "      <td>-0.138595</td>\n",
              "      <td>0.399305</td>\n",
              "      <td>0.126356</td>\n",
              "      <td>0.108568</td>\n",
              "      <td>0.013569</td>\n",
              "    </tr>\n",
              "    <tr>\n",
              "      <th>No of Bathrooms</th>\n",
              "      <td>0.542521</td>\n",
              "      <td>1.000000</td>\n",
              "      <td>0.707088</td>\n",
              "      <td>0.098793</td>\n",
              "      <td>0.499728</td>\n",
              "      <td>0.050887</td>\n",
              "      <td>0.161584</td>\n",
              "      <td>-0.132634</td>\n",
              "      <td>0.629182</td>\n",
              "      <td>0.671987</td>\n",
              "      <td>0.206323</td>\n",
              "      <td>-0.518254</td>\n",
              "      <td>0.043784</td>\n",
              "      <td>0.015311</td>\n",
              "      <td>-0.228087</td>\n",
              "      <td>0.559844</td>\n",
              "      <td>0.090268</td>\n",
              "      <td>0.214328</td>\n",
              "      <td>0.043314</td>\n",
              "    </tr>\n",
              "    <tr>\n",
              "      <th>Flat Area (in Sqft)</th>\n",
              "      <td>0.555672</td>\n",
              "      <td>0.707088</td>\n",
              "      <td>1.000000</td>\n",
              "      <td>0.320099</td>\n",
              "      <td>0.373138</td>\n",
              "      <td>0.103835</td>\n",
              "      <td>0.284656</td>\n",
              "      <td>-0.073835</td>\n",
              "      <td>0.705733</td>\n",
              "      <td>0.856138</td>\n",
              "      <td>0.280983</td>\n",
              "      <td>-0.318196</td>\n",
              "      <td>0.055364</td>\n",
              "      <td>0.052547</td>\n",
              "      <td>-0.240017</td>\n",
              "      <td>0.741196</td>\n",
              "      <td>0.301026</td>\n",
              "      <td>0.296743</td>\n",
              "      <td>0.055095</td>\n",
              "    </tr>\n",
              "    <tr>\n",
              "      <th>Lot Area (in Sqft)</th>\n",
              "      <td>0.139778</td>\n",
              "      <td>0.098793</td>\n",
              "      <td>0.320099</td>\n",
              "      <td>1.000000</td>\n",
              "      <td>-0.142477</td>\n",
              "      <td>0.066316</td>\n",
              "      <td>0.115846</td>\n",
              "      <td>0.052052</td>\n",
              "      <td>0.167042</td>\n",
              "      <td>0.302818</td>\n",
              "      <td>-0.009455</td>\n",
              "      <td>-0.030803</td>\n",
              "      <td>0.020743</td>\n",
              "      <td>-0.134596</td>\n",
              "      <td>-0.364356</td>\n",
              "      <td>0.328669</td>\n",
              "      <td>0.899796</td>\n",
              "      <td>-0.035772</td>\n",
              "      <td>0.020931</td>\n",
              "    </tr>\n",
              "    <tr>\n",
              "      <th>No of Floors</th>\n",
              "      <td>0.190078</td>\n",
              "      <td>0.499728</td>\n",
              "      <td>0.373138</td>\n",
              "      <td>-0.142477</td>\n",
              "      <td>1.000000</td>\n",
              "      <td>0.024113</td>\n",
              "      <td>0.029124</td>\n",
              "      <td>-0.279925</td>\n",
              "      <td>0.470174</td>\n",
              "      <td>0.571625</td>\n",
              "      <td>-0.273298</td>\n",
              "      <td>-0.479953</td>\n",
              "      <td>0.010323</td>\n",
              "      <td>0.041187</td>\n",
              "      <td>-0.142564</td>\n",
              "      <td>0.298272</td>\n",
              "      <td>-0.142035</td>\n",
              "      <td>0.152357</td>\n",
              "      <td>0.010242</td>\n",
              "    </tr>\n",
              "    <tr>\n",
              "      <th>Waterfront View</th>\n",
              "      <td>-0.010129</td>\n",
              "      <td>0.050887</td>\n",
              "      <td>0.103835</td>\n",
              "      <td>0.066316</td>\n",
              "      <td>0.024113</td>\n",
              "      <td>1.000000</td>\n",
              "      <td>0.401856</td>\n",
              "      <td>0.018165</td>\n",
              "      <td>0.070332</td>\n",
              "      <td>0.063793</td>\n",
              "      <td>0.048629</td>\n",
              "      <td>0.026149</td>\n",
              "      <td>0.092882</td>\n",
              "      <td>-0.014274</td>\n",
              "      <td>0.041911</td>\n",
              "      <td>0.080936</td>\n",
              "      <td>0.076275</td>\n",
              "      <td>0.015006</td>\n",
              "      <td>0.093291</td>\n",
              "    </tr>\n",
              "    <tr>\n",
              "      <th>No of Times Visited</th>\n",
              "      <td>0.069774</td>\n",
              "      <td>0.161584</td>\n",
              "      <td>0.284656</td>\n",
              "      <td>0.115846</td>\n",
              "      <td>0.029124</td>\n",
              "      <td>0.401856</td>\n",
              "      <td>1.000000</td>\n",
              "      <td>0.045018</td>\n",
              "      <td>0.223661</td>\n",
              "      <td>0.161709</td>\n",
              "      <td>0.214035</td>\n",
              "      <td>0.053395</td>\n",
              "      <td>0.103907</td>\n",
              "      <td>0.006163</td>\n",
              "      <td>0.078410</td>\n",
              "      <td>0.269378</td>\n",
              "      <td>0.112502</td>\n",
              "      <td>0.097316</td>\n",
              "      <td>0.104051</td>\n",
              "    </tr>\n",
              "    <tr>\n",
              "      <th>Condition of the House</th>\n",
              "      <td>0.018336</td>\n",
              "      <td>-0.132634</td>\n",
              "      <td>-0.073835</td>\n",
              "      <td>0.052052</td>\n",
              "      <td>-0.279925</td>\n",
              "      <td>0.018165</td>\n",
              "      <td>0.045018</td>\n",
              "      <td>1.000000</td>\n",
              "      <td>-0.167649</td>\n",
              "      <td>-0.171509</td>\n",
              "      <td>0.156212</td>\n",
              "      <td>0.386677</td>\n",
              "      <td>-0.063702</td>\n",
              "      <td>-0.018053</td>\n",
              "      <td>0.113049</td>\n",
              "      <td>-0.101916</td>\n",
              "      <td>0.058111</td>\n",
              "      <td>0.038739</td>\n",
              "      <td>-0.063195</td>\n",
              "    </tr>\n",
              "    <tr>\n",
              "      <th>Overall Grade</th>\n",
              "      <td>0.360515</td>\n",
              "      <td>0.629182</td>\n",
              "      <td>0.705733</td>\n",
              "      <td>0.167042</td>\n",
              "      <td>0.470174</td>\n",
              "      <td>0.070332</td>\n",
              "      <td>0.223661</td>\n",
              "      <td>-0.167649</td>\n",
              "      <td>1.000000</td>\n",
              "      <td>0.723630</td>\n",
              "      <td>0.077160</td>\n",
              "      <td>-0.456711</td>\n",
              "      <td>0.010436</td>\n",
              "      <td>0.111228</td>\n",
              "      <td>-0.201664</td>\n",
              "      <td>0.677501</td>\n",
              "      <td>0.166743</td>\n",
              "      <td>0.373459</td>\n",
              "      <td>0.010010</td>\n",
              "    </tr>\n",
              "    <tr>\n",
              "      <th>Area of the House from Basement (in Sqft)</th>\n",
              "      <td>0.507588</td>\n",
              "      <td>0.671987</td>\n",
              "      <td>0.856138</td>\n",
              "      <td>0.302818</td>\n",
              "      <td>0.571625</td>\n",
              "      <td>0.063793</td>\n",
              "      <td>0.161709</td>\n",
              "      <td>-0.171509</td>\n",
              "      <td>0.723630</td>\n",
              "      <td>1.000000</td>\n",
              "      <td>-0.177541</td>\n",
              "      <td>-0.447883</td>\n",
              "      <td>0.025932</td>\n",
              "      <td>-0.014419</td>\n",
              "      <td>-0.359285</td>\n",
              "      <td>0.721375</td>\n",
              "      <td>0.288366</td>\n",
              "      <td>0.230004</td>\n",
              "      <td>0.025825</td>\n",
              "    </tr>\n",
              "    <tr>\n",
              "      <th>Basement Area (in Sqft)</th>\n",
              "      <td>0.204728</td>\n",
              "      <td>0.206323</td>\n",
              "      <td>0.280983</td>\n",
              "      <td>-0.009455</td>\n",
              "      <td>-0.273298</td>\n",
              "      <td>0.048629</td>\n",
              "      <td>0.214035</td>\n",
              "      <td>0.156212</td>\n",
              "      <td>0.077160</td>\n",
              "      <td>-0.177541</td>\n",
              "      <td>1.000000</td>\n",
              "      <td>0.166518</td>\n",
              "      <td>0.058746</td>\n",
              "      <td>0.133751</td>\n",
              "      <td>0.216764</td>\n",
              "      <td>0.105824</td>\n",
              "      <td>-0.017216</td>\n",
              "      <td>0.146539</td>\n",
              "      <td>0.058440</td>\n",
              "    </tr>\n",
              "    <tr>\n",
              "      <th>Age of House (in Years)</th>\n",
              "      <td>-0.172430</td>\n",
              "      <td>-0.518254</td>\n",
              "      <td>-0.318196</td>\n",
              "      <td>-0.030803</td>\n",
              "      <td>-0.479953</td>\n",
              "      <td>0.026149</td>\n",
              "      <td>0.053395</td>\n",
              "      <td>0.386677</td>\n",
              "      <td>-0.456711</td>\n",
              "      <td>-0.447883</td>\n",
              "      <td>0.166518</td>\n",
              "      <td>1.000000</td>\n",
              "      <td>0.224861</td>\n",
              "      <td>0.148075</td>\n",
              "      <td>0.409431</td>\n",
              "      <td>-0.333647</td>\n",
              "      <td>-0.050523</td>\n",
              "      <td>0.045572</td>\n",
              "      <td>0.225182</td>\n",
              "    </tr>\n",
              "    <tr>\n",
              "      <th>Renovated Year</th>\n",
              "      <td>0.013883</td>\n",
              "      <td>0.043784</td>\n",
              "      <td>0.055364</td>\n",
              "      <td>0.020743</td>\n",
              "      <td>0.010323</td>\n",
              "      <td>0.092882</td>\n",
              "      <td>0.103907</td>\n",
              "      <td>-0.063702</td>\n",
              "      <td>0.010436</td>\n",
              "      <td>0.025932</td>\n",
              "      <td>0.058746</td>\n",
              "      <td>0.224861</td>\n",
              "      <td>1.000000</td>\n",
              "      <td>0.029406</td>\n",
              "      <td>0.068387</td>\n",
              "      <td>-0.004537</td>\n",
              "      <td>0.019399</td>\n",
              "      <td>0.066386</td>\n",
              "      <td>0.999968</td>\n",
              "    </tr>\n",
              "    <tr>\n",
              "      <th>Latitude</th>\n",
              "      <td>-0.018305</td>\n",
              "      <td>0.015311</td>\n",
              "      <td>0.052547</td>\n",
              "      <td>-0.134596</td>\n",
              "      <td>0.041187</td>\n",
              "      <td>-0.014274</td>\n",
              "      <td>0.006163</td>\n",
              "      <td>-0.018053</td>\n",
              "      <td>0.111228</td>\n",
              "      <td>-0.014419</td>\n",
              "      <td>0.133751</td>\n",
              "      <td>0.148075</td>\n",
              "      <td>0.029406</td>\n",
              "      <td>1.000000</td>\n",
              "      <td>0.135514</td>\n",
              "      <td>0.044998</td>\n",
              "      <td>-0.130669</td>\n",
              "      <td>0.562307</td>\n",
              "      <td>0.029358</td>\n",
              "    </tr>\n",
              "    <tr>\n",
              "      <th>Longitude</th>\n",
              "      <td>-0.138595</td>\n",
              "      <td>-0.228087</td>\n",
              "      <td>-0.240017</td>\n",
              "      <td>-0.364356</td>\n",
              "      <td>-0.142564</td>\n",
              "      <td>0.041911</td>\n",
              "      <td>0.078410</td>\n",
              "      <td>0.113049</td>\n",
              "      <td>-0.201664</td>\n",
              "      <td>-0.359285</td>\n",
              "      <td>0.216764</td>\n",
              "      <td>0.409431</td>\n",
              "      <td>0.068387</td>\n",
              "      <td>0.135514</td>\n",
              "      <td>1.000000</td>\n",
              "      <td>-0.338045</td>\n",
              "      <td>-0.369422</td>\n",
              "      <td>-0.066633</td>\n",
              "      <td>0.068392</td>\n",
              "    </tr>\n",
              "    <tr>\n",
              "      <th>Living Area after Renovation (in Sqft)</th>\n",
              "      <td>0.399305</td>\n",
              "      <td>0.559844</td>\n",
              "      <td>0.741196</td>\n",
              "      <td>0.328669</td>\n",
              "      <td>0.298272</td>\n",
              "      <td>0.080936</td>\n",
              "      <td>0.269378</td>\n",
              "      <td>-0.101916</td>\n",
              "      <td>0.677501</td>\n",
              "      <td>0.721375</td>\n",
              "      <td>0.105824</td>\n",
              "      <td>-0.333647</td>\n",
              "      <td>-0.004537</td>\n",
              "      <td>0.044998</td>\n",
              "      <td>-0.338045</td>\n",
              "      <td>1.000000</td>\n",
              "      <td>0.344104</td>\n",
              "      <td>0.340930</td>\n",
              "      <td>-0.004631</td>\n",
              "    </tr>\n",
              "    <tr>\n",
              "      <th>Lot Area after Renovation (in Sqft)</th>\n",
              "      <td>0.126356</td>\n",
              "      <td>0.090268</td>\n",
              "      <td>0.301026</td>\n",
              "      <td>0.899796</td>\n",
              "      <td>-0.142035</td>\n",
              "      <td>0.076275</td>\n",
              "      <td>0.112502</td>\n",
              "      <td>0.058111</td>\n",
              "      <td>0.166743</td>\n",
              "      <td>0.288366</td>\n",
              "      <td>-0.017216</td>\n",
              "      <td>-0.050523</td>\n",
              "      <td>0.019399</td>\n",
              "      <td>-0.130669</td>\n",
              "      <td>-0.369422</td>\n",
              "      <td>0.344104</td>\n",
              "      <td>1.000000</td>\n",
              "      <td>-0.022752</td>\n",
              "      <td>0.019539</td>\n",
              "    </tr>\n",
              "    <tr>\n",
              "      <th>zipcode</th>\n",
              "      <td>0.108568</td>\n",
              "      <td>0.214328</td>\n",
              "      <td>0.296743</td>\n",
              "      <td>-0.035772</td>\n",
              "      <td>0.152357</td>\n",
              "      <td>0.015006</td>\n",
              "      <td>0.097316</td>\n",
              "      <td>0.038739</td>\n",
              "      <td>0.373459</td>\n",
              "      <td>0.230004</td>\n",
              "      <td>0.146539</td>\n",
              "      <td>0.045572</td>\n",
              "      <td>0.066386</td>\n",
              "      <td>0.562307</td>\n",
              "      <td>-0.066633</td>\n",
              "      <td>0.340930</td>\n",
              "      <td>-0.022752</td>\n",
              "      <td>1.000000</td>\n",
              "      <td>0.066174</td>\n",
              "    </tr>\n",
              "    <tr>\n",
              "      <th>Renovated</th>\n",
              "      <td>0.013569</td>\n",
              "      <td>0.043314</td>\n",
              "      <td>0.055095</td>\n",
              "      <td>0.020931</td>\n",
              "      <td>0.010242</td>\n",
              "      <td>0.093291</td>\n",
              "      <td>0.104051</td>\n",
              "      <td>-0.063195</td>\n",
              "      <td>0.010010</td>\n",
              "      <td>0.025825</td>\n",
              "      <td>0.058440</td>\n",
              "      <td>0.225182</td>\n",
              "      <td>0.999968</td>\n",
              "      <td>0.029358</td>\n",
              "      <td>0.068392</td>\n",
              "      <td>-0.004631</td>\n",
              "      <td>0.019539</td>\n",
              "      <td>0.066174</td>\n",
              "      <td>1.000000</td>\n",
              "    </tr>\n",
              "  </tbody>\n",
              "</table>\n",
              "</div>"
            ],
            "text/plain": [
              "                                           No of Bedrooms  ...  Renovated\n",
              "No of Bedrooms                                   1.000000  ...   0.013569\n",
              "No of Bathrooms                                  0.542521  ...   0.043314\n",
              "Flat Area (in Sqft)                              0.555672  ...   0.055095\n",
              "Lot Area (in Sqft)                               0.139778  ...   0.020931\n",
              "No of Floors                                     0.190078  ...   0.010242\n",
              "Waterfront View                                 -0.010129  ...   0.093291\n",
              "No of Times Visited                              0.069774  ...   0.104051\n",
              "Condition of the House                           0.018336  ...  -0.063195\n",
              "Overall Grade                                    0.360515  ...   0.010010\n",
              "Area of the House from Basement (in Sqft)        0.507588  ...   0.025825\n",
              "Basement Area (in Sqft)                          0.204728  ...   0.058440\n",
              "Age of House (in Years)                         -0.172430  ...   0.225182\n",
              "Renovated Year                                   0.013883  ...   0.999968\n",
              "Latitude                                        -0.018305  ...   0.029358\n",
              "Longitude                                       -0.138595  ...   0.068392\n",
              "Living Area after Renovation (in Sqft)           0.399305  ...  -0.004631\n",
              "Lot Area after Renovation (in Sqft)              0.126356  ...   0.019539\n",
              "zipcode                                          0.108568  ...   0.066174\n",
              "Renovated                                        0.013569  ...   1.000000\n",
              "\n",
              "[19 rows x 19 columns]"
            ]
          },
          "metadata": {
            "tags": []
          },
          "execution_count": 94
        }
      ]
    },
    {
      "cell_type": "code",
      "metadata": {
        "colab": {
          "base_uri": "https://localhost:8080/"
        },
        "id": "apW-0Z2zrzR9",
        "outputId": "c9ba6786-e2bc-4bd6-b1b0-df942d278860"
      },
      "source": [
        "from statsmodels.stats.outliers_influence import variance_inflation_factor\n",
        "Xtemp = X[:]\n",
        "VIF = pd.Series([variance_inflation_factor(Xtemp.values, i) for i in range(Xtemp.shape[1])], index = Xtemp.columns)\n",
        "VIF"
      ],
      "execution_count": null,
      "outputs": [
        {
          "output_type": "execute_result",
          "data": {
            "text/plain": [
              "No of Bedrooms                                   1.724068\n",
              "No of Bathrooms                                  3.247687\n",
              "Flat Area (in Sqft)                             14.720892\n",
              "Lot Area (in Sqft)                               5.544930\n",
              "No of Floors                                     2.258558\n",
              "Waterfront View                                  1.208979\n",
              "No of Times Visited                              1.402876\n",
              "Condition of the House                           1.287548\n",
              "Overall Grade                                    3.053582\n",
              "Area of the House from Basement (in Sqft)       18.518066\n",
              "Basement Area (in Sqft)                          4.518831\n",
              "Age of House (in Years)                          2.524446\n",
              "Renovated Year                               16134.893395\n",
              "Latitude                                         1.592171\n",
              "Longitude                                        1.619815\n",
              "Living Area after Renovation (in Sqft)           2.959848\n",
              "Lot Area after Renovation (in Sqft)              5.461541\n",
              "zipcode                                          1.933721\n",
              "Renovated                                    16133.505672\n",
              "dtype: float64"
            ]
          },
          "metadata": {
            "tags": []
          },
          "execution_count": 96
        }
      ]
    },
    {
      "cell_type": "code",
      "metadata": {
        "id": "Fou5E4YOsR86"
      },
      "source": [
        "X.drop(columns=['Renovated Year'],inplace=True)"
      ],
      "execution_count": null,
      "outputs": []
    },
    {
      "cell_type": "code",
      "metadata": {
        "colab": {
          "base_uri": "https://localhost:8080/"
        },
        "id": "2aCYx3atsm1u",
        "outputId": "a48c90b8-f4ec-45b1-fc29-180c475ca780"
      },
      "source": [
        "Xtemp = X[:]\n",
        "VIF = pd.Series([variance_inflation_factor(Xtemp.values, i) for i in range(Xtemp.shape[1])], index = Xtemp.columns)\n",
        "VIF"
      ],
      "execution_count": null,
      "outputs": [
        {
          "output_type": "execute_result",
          "data": {
            "text/plain": [
              "No of Bedrooms                                1.723357\n",
              "No of Bathrooms                               3.242959\n",
              "Flat Area (in Sqft)                          14.707915\n",
              "Lot Area (in Sqft)                            5.542461\n",
              "No of Floors                                  2.257385\n",
              "Waterfront View                               1.206519\n",
              "No of Times Visited                           1.402757\n",
              "Condition of the House                        1.282102\n",
              "Overall Grade                                 3.046941\n",
              "Area of the House from Basement (in Sqft)    18.493152\n",
              "Basement Area (in Sqft)                       4.517499\n",
              "Age of House (in Years)                       2.524325\n",
              "Latitude                                      1.591642\n",
              "Longitude                                     1.619814\n",
              "Living Area after Renovation (in Sqft)        2.957421\n",
              "Lot Area after Renovation (in Sqft)           5.460409\n",
              "zipcode                                       1.933074\n",
              "Renovated                                     1.158481\n",
              "dtype: float64"
            ]
          },
          "metadata": {
            "tags": []
          },
          "execution_count": 99
        }
      ]
    },
    {
      "cell_type": "code",
      "metadata": {
        "id": "-xAnn0JRsfDD"
      },
      "source": [
        "X.drop(columns=['Area of the House from Basement (in Sqft)'],inplace=True)"
      ],
      "execution_count": null,
      "outputs": []
    },
    {
      "cell_type": "code",
      "metadata": {
        "colab": {
          "base_uri": "https://localhost:8080/"
        },
        "id": "jymSZGo3szfL",
        "outputId": "a029c749-d4d6-4dea-db2a-44e18baebae3"
      },
      "source": [
        "Xtemp = X[:]\n",
        "VIF = pd.Series([variance_inflation_factor(Xtemp.values, i) for i in range(Xtemp.shape[1])], index = Xtemp.columns)\n",
        "VIF"
      ],
      "execution_count": null,
      "outputs": [
        {
          "output_type": "execute_result",
          "data": {
            "text/plain": [
              "No of Bedrooms                            1.645565\n",
              "No of Bathrooms                           3.182698\n",
              "Flat Area (in Sqft)                       4.295277\n",
              "Lot Area (in Sqft)                        5.535699\n",
              "No of Floors                              2.104479\n",
              "Waterfront View                           1.206269\n",
              "No of Times Visited                       1.395010\n",
              "Condition of the House                    1.281879\n",
              "Overall Grade                             2.897137\n",
              "Basement Area (in Sqft)                   1.665182\n",
              "Age of House (in Years)                   2.519808\n",
              "Latitude                                  1.591489\n",
              "Longitude                                 1.613741\n",
              "Living Area after Renovation (in Sqft)    2.870185\n",
              "Lot Area after Renovation (in Sqft)       5.460009\n",
              "zipcode                                   1.923235\n",
              "Renovated                                 1.158208\n",
              "dtype: float64"
            ]
          },
          "metadata": {
            "tags": []
          },
          "execution_count": 101
        }
      ]
    },
    {
      "cell_type": "code",
      "metadata": {
        "id": "4LVokvwQs1jN"
      },
      "source": [
        "X.drop(columns=['Lot Area (in Sqft)'],inplace=True)"
      ],
      "execution_count": null,
      "outputs": []
    },
    {
      "cell_type": "code",
      "metadata": {
        "colab": {
          "base_uri": "https://localhost:8080/"
        },
        "id": "zXE2ILnbtF99",
        "outputId": "98248ae8-1d30-4851-9b1c-d59b613ec956"
      },
      "source": [
        "Xtemp = X[:]\n",
        "VIF = pd.Series([variance_inflation_factor(Xtemp.values, i) for i in range(Xtemp.shape[1])], index = Xtemp.columns)\n",
        "VIF"
      ],
      "execution_count": null,
      "outputs": [
        {
          "output_type": "execute_result",
          "data": {
            "text/plain": [
              "No of Bedrooms                            1.645178\n",
              "No of Bathrooms                           3.182478\n",
              "Flat Area (in Sqft)                       4.209831\n",
              "No of Floors                              2.089279\n",
              "Waterfront View                           1.205900\n",
              "No of Times Visited                       1.394589\n",
              "Condition of the House                    1.280717\n",
              "Overall Grade                             2.895625\n",
              "Basement Area (in Sqft)                   1.659585\n",
              "Age of House (in Years)                   2.498287\n",
              "Latitude                                  1.591380\n",
              "Longitude                                 1.596073\n",
              "Living Area after Renovation (in Sqft)    2.863521\n",
              "Lot Area after Renovation (in Sqft)       1.502298\n",
              "zipcode                                   1.914719\n",
              "Renovated                                 1.157756\n",
              "dtype: float64"
            ]
          },
          "metadata": {
            "tags": []
          },
          "execution_count": 103
        }
      ]
    },
    {
      "cell_type": "code",
      "metadata": {
        "colab": {
          "base_uri": "https://localhost:8080/"
        },
        "id": "x6Ep-roKtCcB",
        "outputId": "dcc23a07-ada5-48d2-dca4-dd1c16f7ddf6"
      },
      "source": [
        "from sklearn.model_selection import train_test_split as spl\n",
        "x_train, x_test, y_train, y_test = spl(X, Y, test_size = 0.3, random_state = 101)\n",
        "\n",
        "x_train.shape, x_test.shape, y_train.shape, y_test.shape"
      ],
      "execution_count": null,
      "outputs": [
        {
          "output_type": "execute_result",
          "data": {
            "text/plain": [
              "((15126, 16), (6483, 16), (15126,), (6483,))"
            ]
          },
          "metadata": {
            "tags": []
          },
          "execution_count": 104
        }
      ]
    },
    {
      "cell_type": "code",
      "metadata": {
        "colab": {
          "base_uri": "https://localhost:8080/"
        },
        "id": "M5slRmkvthiA",
        "outputId": "be113b35-2d7e-45c2-ca46-d8126a0c8587"
      },
      "source": [
        "from sklearn.linear_model import LinearRegression as LR\n",
        "lr = LR(normalize = True)\n",
        "lr.fit(x_train, y_train)"
      ],
      "execution_count": null,
      "outputs": [
        {
          "output_type": "execute_result",
          "data": {
            "text/plain": [
              "LinearRegression(copy_X=True, fit_intercept=True, n_jobs=None, normalize=True)"
            ]
          },
          "metadata": {
            "tags": []
          },
          "execution_count": 105
        }
      ]
    },
    {
      "cell_type": "code",
      "metadata": {
        "colab": {
          "base_uri": "https://localhost:8080/"
        },
        "id": "uOn5HUQxtwY4",
        "outputId": "8f9f182e-05fe-477a-ed08-18ff1522b28b"
      },
      "source": [
        "lr.score(x_test, y_test)"
      ],
      "execution_count": null,
      "outputs": [
        {
          "output_type": "execute_result",
          "data": {
            "text/plain": [
              "0.8446962953716177"
            ]
          },
          "metadata": {
            "tags": []
          },
          "execution_count": 106
        }
      ]
    },
    {
      "cell_type": "code",
      "metadata": {
        "id": "6X885Rbgt3pu"
      },
      "source": [
        "predictions = lr.predict()\n",
        "residuals = predictions - y_test\n",
        "\n",
        "residual_table = pd.DataFrame({'residuals':residuals,\n",
        "                    'predictions':predictions})\n",
        "residual_table = residual_table.sort_values( by = 'predictions')"
      ],
      "execution_count": null,
      "outputs": []
    }
  ]
}